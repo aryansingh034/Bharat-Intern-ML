{
 "cells": [
  {
   "cell_type": "markdown",
   "id": "159ce33e-bf16-4d69-9fd6-ddcaf133bff4",
   "metadata": {},
   "source": [
    "# **Importing the packages**"
   ]
  },
  {
   "cell_type": "code",
   "execution_count": 20,
   "id": "364c4005-bee1-40c9-9df6-0a2967ddab12",
   "metadata": {},
   "outputs": [],
   "source": [
    "import pandas as pd\n",
    "import numpy as np\n",
    "from sklearn.model_selection import train_test_split\n",
    "from sklearn.metrics import mean_squared_error\n",
    "from tensorflow.keras.layers import Input, Embedding, Flatten, Dense, Concatenate, Dropout\n",
    "from tensorflow.keras.models import Model\n",
    "from sklearn.preprocessing import MultiLabelBinarizer"
   ]
  },
  {
   "cell_type": "markdown",
   "id": "200a4e73-f297-4457-b346-7b8f36417b14",
   "metadata": {},
   "source": [
    "# **Loading the Datasets**"
   ]
  },
  {
   "cell_type": "code",
   "execution_count": 21,
   "id": "160098df-8540-4d81-b5c0-082e1abda234",
   "metadata": {},
   "outputs": [
    {
     "name": "stdout",
     "output_type": "stream",
     "text": [
      "Ratings Data:\n",
      "    userId  movieId  rating\n",
      "0        1        1      64\n",
      "1        2        2      68\n",
      "2        3        3      43\n",
      "3        4        4      15\n",
      "4        5        5      28\n",
      "..     ...      ...     ...\n",
      "72      73       73      54\n",
      "73      74       74      89\n",
      "74      75       75      79\n",
      "75      76       76      40\n",
      "76      77       77      87\n",
      "\n",
      "[77 rows x 3 columns]\n",
      "\n",
      "Movies Data:\n",
      "    movieId                               title   genres\n",
      "0         1          Zack and Miri Make a Porno  Romance\n",
      "1         2                     Youth in Revolt   Comedy\n",
      "2         3  You Will Meet a Tall Dark Stranger   Comedy\n",
      "3         4                        When in Rome   Comedy\n",
      "4         5               What Happens in Vegas   Comedy\n",
      "..      ...                                 ...      ...\n",
      "72       73                 Across the Universe  romance\n",
      "73       74                       A Serious Man    Drama\n",
      "74       75                  A Dangerous Method    Drama\n",
      "75       76                          27 Dresses   Comedy\n",
      "76       77                (500) Days of Summer   comedy\n",
      "\n",
      "[77 rows x 3 columns]\n"
     ]
    }
   ],
   "source": [
    "ratings_data = pd.read_csv('C:/Users/srika/OneDrive/Desktop/Bharat internship/Movie Recommendations/ratings.csv')\n",
    "\n",
    "print(\"Ratings Data:\")\n",
    "print(ratings_data)\n",
    "\n",
    "movies_data = pd.read_csv('C:/Users/srika/OneDrive/Desktop/Bharat internship/Movie Recommendations/movies.csv')\n",
    "\n",
    "print(\"\\nMovies Data:\")\n",
    "print(movies_data)"
   ]
  },
  {
   "cell_type": "markdown",
   "id": "67226d55-f229-4746-abde-4c65977e7c86",
   "metadata": {},
   "source": [
    "# **Merge Data**"
   ]
  },
  {
   "cell_type": "code",
   "execution_count": 22,
   "id": "af7b85bb-9260-4e3c-b0d8-6fecc1c75902",
   "metadata": {},
   "outputs": [],
   "source": [
    "data = pd.merge(ratings_data, movies_data, on='movieId')"
   ]
  },
  {
   "cell_type": "markdown",
   "id": "aa262162-7524-4590-be65-fb6d9f598dba",
   "metadata": {},
   "source": [
    "# **One-Hot Encode Genres**"
   ]
  },
  {
   "cell_type": "code",
   "execution_count": 23,
   "id": "d2527101-336f-49e9-9fe7-bfb7f6429303",
   "metadata": {},
   "outputs": [],
   "source": [
    "genres_list = [genres.split('|') for genres in data['genres']]\n",
    "mlb = MultiLabelBinarizer()\n",
    "genres_encoded = pd.DataFrame(mlb.fit_transform(genres_list), columns=mlb.classes_)\n",
    "data = pd.concat([data, genres_encoded], axis=1)"
   ]
  },
  {
   "cell_type": "markdown",
   "id": "61299766-a4ac-4e24-9335-a36e699e44cd",
   "metadata": {},
   "source": [
    "# **Create Model**"
   ]
  },
  {
   "cell_type": "code",
   "execution_count": 24,
   "id": "03a4c542-7b51-42f5-ae81-dcdf54dc3dd4",
   "metadata": {},
   "outputs": [],
   "source": [
    "genres_input = Input(shape=[len(mlb.classes_)], name='genres')\n",
    "\n",
    "# Split the data into training and testing sets\n",
    "train_data, test_data = train_test_split(data, test_size=0.2, random_state=42)\n",
    "\n",
    "# Define the model using only genre information\n",
    "embedding_size = 30\n",
    "dropout_rate = 0.2\n",
    "\n",
    "genres_embedding = Embedding(input_dim=len(data['movieId'].unique()), output_dim=embedding_size, name='genres_embedding')(genres_input)\n",
    "flattened_genres = Flatten()(genres_embedding)\n",
    "dense_layer_1 = Dense(128, activation='relu')(flattened_genres)\n",
    "dropout_layer = Dropout(dropout_rate)(dense_layer_1)\n",
    "dense_layer_2 = Dense(64, activation='relu')(dropout_layer)\n",
    "output_layer = Dense(1)(dense_layer_2)\n",
    "\n",
    "model = Model(inputs=genres_input, outputs=output_layer)\n",
    "model.compile(optimizer='adam', loss='mean_squared_error')"
   ]
  },
  {
   "cell_type": "markdown",
   "id": "e7e9ae98-402c-4c35-a88e-bf8266fde280",
   "metadata": {},
   "source": [
    "# **Train Model**"
   ]
  },
  {
   "cell_type": "code",
   "execution_count": 25,
   "id": "c4239bd8-550e-42c2-98ec-8cca21abfcbe",
   "metadata": {},
   "outputs": [
    {
     "name": "stdout",
     "output_type": "stream",
     "text": [
      "Epoch 1/10\n",
      "1/1 [==============================] - 1s 665ms/step - loss: 3136.4966\n",
      "Epoch 2/10\n",
      "1/1 [==============================] - 0s 6ms/step - loss: 3131.3157\n",
      "Epoch 3/10\n",
      "1/1 [==============================] - 0s 5ms/step - loss: 3126.7092\n",
      "Epoch 4/10\n",
      "1/1 [==============================] - 0s 4ms/step - loss: 3121.4749\n",
      "Epoch 5/10\n",
      "1/1 [==============================] - 0s 5ms/step - loss: 3116.3604\n",
      "Epoch 6/10\n",
      "1/1 [==============================] - 0s 4ms/step - loss: 3108.8274\n",
      "Epoch 7/10\n",
      "1/1 [==============================] - 0s 6ms/step - loss: 3102.7002\n",
      "Epoch 8/10\n",
      "1/1 [==============================] - 0s 4ms/step - loss: 3095.0647\n",
      "Epoch 9/10\n",
      "1/1 [==============================] - 0s 8ms/step - loss: 3085.7830\n",
      "Epoch 10/10\n",
      "1/1 [==============================] - 0s 4ms/step - loss: 3078.6094\n"
     ]
    },
    {
     "data": {
      "text/plain": [
       "<keras.src.callbacks.History at 0x16784ba9810>"
      ]
     },
     "execution_count": 25,
     "metadata": {},
     "output_type": "execute_result"
    }
   ],
   "source": [
    "model.fit(train_data[mlb.classes_], train_data['rating'], epochs=10, batch_size=64)"
   ]
  },
  {
   "cell_type": "markdown",
   "id": "323cf103-fb55-4543-82a3-303e0722fb6e",
   "metadata": {},
   "source": [
    "# **Evaluate Model**"
   ]
  },
  {
   "cell_type": "code",
   "execution_count": 26,
   "id": "486212ca-a2ba-4eed-8d6c-f6a1d306f5e6",
   "metadata": {},
   "outputs": [
    {
     "name": "stdout",
     "output_type": "stream",
     "text": [
      "Epoch 1/10\n",
      "1/1 [==============================] - 0s 8ms/step - loss: 3067.3494\n",
      "Epoch 2/10\n",
      "1/1 [==============================] - 0s 8ms/step - loss: 3055.0449\n",
      "Epoch 3/10\n",
      "1/1 [==============================] - 0s 4ms/step - loss: 3043.6174\n",
      "Epoch 4/10\n",
      "1/1 [==============================] - 0s 4ms/step - loss: 3028.8059\n",
      "Epoch 5/10\n",
      "1/1 [==============================] - 0s 4ms/step - loss: 3013.3210\n",
      "Epoch 6/10\n",
      "1/1 [==============================] - 0s 4ms/step - loss: 2995.7268\n",
      "Epoch 7/10\n",
      "1/1 [==============================] - 0s 4ms/step - loss: 2975.4856\n",
      "Epoch 8/10\n",
      "1/1 [==============================] - 0s 4ms/step - loss: 2954.5093\n",
      "Epoch 9/10\n",
      "1/1 [==============================] - 0s 4ms/step - loss: 2934.4534\n",
      "Epoch 10/10\n",
      "1/1 [==============================] - 0s 4ms/step - loss: 2909.2129\n"
     ]
    },
    {
     "data": {
      "text/plain": [
       "<keras.src.callbacks.History at 0x167fff08410>"
      ]
     },
     "execution_count": 26,
     "metadata": {},
     "output_type": "execute_result"
    }
   ],
   "source": [
    "model.fit(train_data[mlb.classes_], train_data['rating'], epochs=10, batch_size=64)"
   ]
  },
  {
   "cell_type": "markdown",
   "id": "ed77ae1e-439e-4c2d-b2ef-886981610572",
   "metadata": {},
   "source": [
    "# **User Input for Genres**"
   ]
  },
  {
   "cell_type": "code",
   "execution_count": 27,
   "id": "01f3d988-d837-4b9e-bbfc-b16ede6696c9",
   "metadata": {},
   "outputs": [
    {
     "name": "stdin",
     "output_type": "stream",
     "text": [
      "Enter a genre:  Comedy\n"
     ]
    }
   ],
   "source": [
    "user_genre = input(\"Enter a genre: \")"
   ]
  },
  {
   "cell_type": "markdown",
   "id": "d7d8f7bc-84e3-43cc-8628-5ef09ac791fa",
   "metadata": {},
   "source": [
    "# **Filter Movies**"
   ]
  },
  {
   "cell_type": "code",
   "execution_count": 28,
   "id": "78706de3-a7e7-4c5e-858c-12c410618089",
   "metadata": {},
   "outputs": [],
   "source": [
    "filtered_movies = movies_data[movies_data['genres'].str.contains(user_genre, case=False)]"
   ]
  },
  {
   "cell_type": "markdown",
   "id": "dd605a11-0fcd-4891-9067-cee21904752b",
   "metadata": {},
   "source": [
    "# **Make Recommendations**"
   ]
  },
  {
   "cell_type": "code",
   "execution_count": 29,
   "id": "025008e9-2af4-4dbb-915d-4371d893d3d0",
   "metadata": {},
   "outputs": [
    {
     "name": "stdout",
     "output_type": "stream",
     "text": [
      "1/1 [==============================] - 0s 94ms/step\n",
      "\n",
      "Top 5 Movie Recommendations based on Genre 'Comedy':\n",
      "\n",
      "                         title  genres\n",
      "4        What Happens in Vegas  Comedy\n",
      "45                  Mamma Mia!  Comedy\n",
      "50          Life as We Know It  Comedy\n",
      "53                   Leap Year  Comedy\n",
      "66  Ghosts of Girlfriends Past  Comedy\n"
     ]
    }
   ],
   "source": [
    "if not filtered_movies.empty:\n",
    "    # Get predictions for filtered movies\n",
    "    filtered_movies_data = pd.merge(test_data, filtered_movies[['movieId']], on='movieId', how='inner')\n",
    "    recommendations = model.predict(filtered_movies_data[mlb.classes_])\n",
    "\n",
    "    # Combine movie indices and predictions\n",
    "    recommendations_df = pd.DataFrame({'movieId': filtered_movies_data['movieId'], 'prediction': recommendations.squeeze()})\n",
    "\n",
    "    # Display top N recommendations\n",
    "    top_n_recommendations = recommendations_df.sort_values(by='prediction', ascending=False).head(5)\n",
    "    top_n_movies = movies_data[movies_data['movieId'].isin(top_n_recommendations['movieId'])]\n",
    "    print(f\"\\nTop 5 Movie Recommendations based on Genre '{user_genre}':\\n\")\n",
    "    print(top_n_movies[['title', 'genres']])\n",
    "else:\n",
    "    print(f\"No movies found for the genre '{user_genre}'.\")"
   ]
  }
 ],
 "metadata": {
  "kernelspec": {
   "display_name": "Python 3 (ipykernel)",
   "language": "python",
   "name": "python3"
  },
  "language_info": {
   "codemirror_mode": {
    "name": "ipython",
    "version": 3
   },
   "file_extension": ".py",
   "mimetype": "text/x-python",
   "name": "python",
   "nbconvert_exporter": "python",
   "pygments_lexer": "ipython3",
   "version": "3.11.4"
  }
 },
 "nbformat": 4,
 "nbformat_minor": 5
}
